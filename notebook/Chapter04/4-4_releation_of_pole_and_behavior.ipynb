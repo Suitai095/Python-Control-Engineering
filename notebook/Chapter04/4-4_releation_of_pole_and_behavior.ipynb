{
 "cells": [
  {
   "cell_type": "markdown",
   "id": "b463a44c",
   "metadata": {},
   "source": [
    "<h1>極と振舞いの関係</h1>\n",
    "\n",
    "Pythonによる制御工学入門 P122 ~"
   ]
  },
  {
   "cell_type": "markdown",
   "id": "c2e16ea0",
   "metadata": {},
   "source": [
    "伝達関数モデルの極の実部、または状態空間モデルの$A$行列の固有値の実部が負であるとき、システムは安定と表現しました。この項では、極または固有値とシステムの振舞いの間を見ます。  \n",
    "\n",
    "結論から言えば、極が負側に大きくなるほど、**応答は早くなります**。\n",
    "\n",
    "1次遅れ系は極が$s=-\\frac{1}{T}$となるので、$T$が小さいほど応答が早くなることに対応しています。また、2次遅れ系の場合、極が$s=\\varsigma \\omega_n ±j\\omega_n \\sqrt{1 - \\varsigma^2}$になるので、$\\omega_n$が大きいとき、応答が早くなります。(いずれの例も参考テキストの内容)"
   ]
  },
  {
   "cell_type": "markdown",
   "id": "141b7964",
   "metadata": {},
   "source": []
  }
 ],
 "metadata": {
  "language_info": {
   "name": "python"
  }
 },
 "nbformat": 4,
 "nbformat_minor": 5
}
