{
 "cells": [
  {
   "cell_type": "markdown",
   "id": "759afae7",
   "metadata": {},
   "source": [
    "<h1>制御のためのモデル</h1>\n",
    "\n",
    "「Pythonによる制御工学入門」P59~P90"
   ]
  },
  {
   "cell_type": "markdown",
   "id": "9f7b3b4a",
   "metadata": {},
   "source": [
    "<h2>動的システムの表現</h2>  \n",
    "\n",
    "ここでは台車、垂直駆動アームをモデル化していきます。"
   ]
  },
  {
   "cell_type": "markdown",
   "id": "1f0b0659",
   "metadata": {},
   "source": [
    "<h3>台車のモデル</h3>\n",
    "\n",
    "台車の質量を$M$、台車の位置を$z(t)$、その台車にかかる外力の総和を$F(t)$としたとき、求められる運動方程式は$M\\ddot{z}(t) = F(t)$となります。ここで、$\\ddot{z}$は１階の時間微分で速度と対応します。  \n",
    "台車にかかる外力は、力$f(t)$と粘性摩擦力$-\\mu\\dot{z}(t)$になります。  \n",
    "\n",
    "つまり、外力の総和は$F(t) = f(t) - \\mu\\dot{z}(t)$になります。$\\mu$に符号が付く理由は、粘性摩擦力は抵抗であり、台車が進む方向とは逆向きに力が働くためです。  \n",
    "\n",
    "これらの結果から、台車の運動方程式は以下の式の通りになります。\n",
    "\n",
    "```math\n",
    "M\\ddot{z}(t) + \\mu\\dot{z}(t) = f(t)\n",
    "```\n",
    "\n",
    "そして、出力を速度$y(t)=\\dot{z}(t)$、入力を力$u(t)=f(t)$として、上記の台車の運動方程式に入れると以下のようになります。  \n",
    "\n",
    "```math\n",
    "M\\dot{y}+\\mu y(t) = u(t)\n",
    "```"
   ]
  },
  {
   "cell_type": "markdown",
   "id": "88ad10b5",
   "metadata": {},
   "source": []
  }
 ],
 "metadata": {
  "kernelspec": {
   "display_name": "venv",
   "language": "python",
   "name": "python3"
  },
  "language_info": {
   "codemirror_mode": {
    "name": "ipython",
    "version": 3
   },
   "file_extension": ".py",
   "mimetype": "text/x-python",
   "name": "python",
   "nbconvert_exporter": "python",
   "pygments_lexer": "ipython3",
   "version": "3.12.8"
  }
 },
 "nbformat": 4,
 "nbformat_minor": 5
}
