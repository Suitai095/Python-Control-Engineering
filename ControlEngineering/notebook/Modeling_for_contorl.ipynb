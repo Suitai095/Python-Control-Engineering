{
 "cells": [
  {
   "cell_type": "code",
   "execution_count": 1,
   "id": "0307d7b0",
   "metadata": {},
   "outputs": [],
   "source": [
    "from control.matlab import ss, ssdata"
   ]
  },
  {
   "cell_type": "markdown",
   "id": "8d6d4e37",
   "metadata": {},
   "source": [
    "<h1>Write of State Space Model</h1>"
   ]
  },
  {
   "cell_type": "code",
   "execution_count": 2,
   "id": "9a9b1dd5",
   "metadata": {},
   "outputs": [
    {
     "name": "stdout",
     "output_type": "stream",
     "text": [
      "<StateSpace>: sys[0]\n",
      "Inputs (1): ['u[0]']\n",
      "Outputs (1): ['y[0]']\n",
      "States (2): ['x[0]', 'x[1]']\n",
      "\n",
      "A = [[ 0.  1.]\n",
      "     [-1. -1.]]\n",
      "\n",
      "B = [[0.]\n",
      "     [1.]]\n",
      "\n",
      "C = [[1. 0.]]\n",
      "\n",
      "D = [[0.]]\n",
      "\n"
     ]
    }
   ],
   "source": [
    "A = [[0, 1], [-1, -1]]\n",
    "B = [[0], [1]]\n",
    "C = [1, 0]\n",
    "D = [0]\n",
    "\n",
    "P = ss(A, B, C, D)\n",
    "print(P)"
   ]
  },
  {
   "cell_type": "markdown",
   "id": "c11f2e10",
   "metadata": {},
   "source": [
    "<h2>Practice!</h2>\n",
    "\n",
    "Please using python write next a state space model.  \n",
    "\n",
    "```math\n",
    "P : \\left\\{\n",
    "    \\begin{array}{ll}  \n",
    "        \\dot{x(t)} = \n",
    "            \\begin{bmatrix}\n",
    "                1 & 1 & 2 \\\\\n",
    "                2 & 1 & 1 \\\\\n",
    "                3 & 4 & 5\n",
    "            \\end{bmatrix}\n",
    "        x(t) + \\begin{bmatrix} 2 \\\\ 0 \\\\ 1\\end{bmatrix}u(t)\\\\ \\\\\n",
    "        y(t) = \\begin{bmatrix}1 & 1 & 0\\end{bmatrix}x(t)\n",
    "    \\end{array}\n",
    "    \\right.\n",
    "\n",
    "```"
   ]
  },
  {
   "cell_type": "markdown",
   "id": "afbd8a14",
   "metadata": {},
   "source": [
    "<h2>Solution</h2>\n",
    "\n",
    "Definication of State space model is as below.\n",
    "\n",
    "```math\n",
    "P : \\left\\{\n",
    "    \\begin{array}{ll}  \n",
    "        \\dot{x(t)} = Ax(t) + Bu(t)\\\\\n",
    "        y(t) = Cx(t) + Du(t)\n",
    "    \\end{array}\n",
    "    \\right.\n",
    "```"
   ]
  },
  {
   "cell_type": "code",
   "execution_count": 3,
   "id": "c0a8ddc6",
   "metadata": {},
   "outputs": [
    {
     "name": "stdout",
     "output_type": "stream",
     "text": [
      "<StateSpace>: sys[1]\n",
      "Inputs (1): ['u[0]']\n",
      "Outputs (1): ['y[0]']\n",
      "States (3): ['x[0]', 'x[1]', 'x[2]']\n",
      "\n",
      "A = [[1. 1. 2.]\n",
      "     [2. 1. 1.]\n",
      "     [3. 4. 5.]]\n",
      "\n",
      "B = [[2.]\n",
      "     [0.]\n",
      "     [1.]]\n",
      "\n",
      "C = [[1. 1. 0.]]\n",
      "\n",
      "D = [[0.]]\n",
      "\n"
     ]
    }
   ],
   "source": [
    "A = [[1, 1, 2], [2, 1, 1], [3, 4, 5]]\n",
    "B = [[2], [0], [1]]\n",
    "C = [1, 1, 0]\n",
    "D = [0]\n",
    "\n",
    "P = ss(A, B, C, D)\n",
    "print(P)"
   ]
  },
  {
   "cell_type": "markdown",
   "id": "d982aa88",
   "metadata": {},
   "source": [
    "<h2>Write of Transfer Function Model</h2>\n",
    "\n",
    "Python write the Transfer function using function tf(num, den).  \n",
    "```\n",
    "tf(num, den)\n",
    "```\n",
    "\n",
    "examples, using python of function write as below polynomial functions.\n",
    "\n",
    "```math\n",
    "P(s) = \\frac{1}{s^2 + 2s + 3}\n",
    "```"
   ]
  },
  {
   "cell_type": "code",
   "execution_count": 4,
   "id": "3db87817",
   "metadata": {},
   "outputs": [
    {
     "name": "stdout",
     "output_type": "stream",
     "text": [
      "<TransferFunction>: sys[2]\n",
      "Inputs (1): ['u[0]']\n",
      "Outputs (1): ['y[0]']\n",
      "\n",
      "\n",
      "      1\n",
      "-------------\n",
      "s^2 + 2 s + 3\n",
      "\n"
     ]
    }
   ],
   "source": [
    "from control.matlab import tf, tfdata\n",
    "\n",
    "Np = [0, 1]\n",
    "Dp = [1, 2, 3]\n",
    "print(f'{tf(Np, Dp)}')"
   ]
  },
  {
   "cell_type": "markdown",
   "id": "0e6c2356",
   "metadata": {},
   "source": [
    "<h2>Practice!</h2>\n",
    "\n",
    "Please using python write next a transfer function.  \n",
    "\n",
    "```math\n",
    "P(s) = \\frac{s+2}{s^3 + 5s^2 + 3s + 4}\n",
    "```\n",
    "\n",
    "and, please using python write next a transfer function.\n",
    "\n",
    "```math\n",
    "P(s) = \\frac{s+3}{(s+1)(s+2)^2}\n",
    "```"
   ]
  },
  {
   "cell_type": "markdown",
   "id": "a4a6128d",
   "metadata": {},
   "source": [
    "<h2>Solution</h2>\n",
    "\n",
    "Definication of Transfer function model as below.\n",
    "\n",
    "```math\n",
    "P(s) = \\frac{y(s)}{u(s)}\n",
    "```"
   ]
  },
  {
   "cell_type": "code",
   "execution_count": 5,
   "id": "d6ce1fc1",
   "metadata": {},
   "outputs": [
    {
     "name": "stdout",
     "output_type": "stream",
     "text": [
      "<TransferFunction>: sys[3]\n",
      "Inputs (1): ['u[0]']\n",
      "Outputs (1): ['y[0]']\n",
      "\n",
      "\n",
      "        s + 2\n",
      "---------------------\n",
      "s^3 + 5 s^2 + 3 s + 4\n",
      "\n"
     ]
    }
   ],
   "source": [
    "Np = [1, 2]\n",
    "Dp = [1, 5, 3, 4]\n",
    "print(f'{tf(Np, Dp)}')"
   ]
  },
  {
   "cell_type": "markdown",
   "id": "4e30cc16",
   "metadata": {},
   "source": [
    "next problem, first approch expression expansion of denominator and then assingment in ```tf(num, den)``` of the python function.\n",
    "\n",
    "```math\n",
    "P(s) = \\frac{y(s)}{u(s)} = \\frac{s+3}{s3+5s^2+8s+4}\n",
    "```"
   ]
  },
  {
   "cell_type": "markdown",
   "id": "206fbd5b",
   "metadata": {},
   "source": []
  },
  {
   "cell_type": "code",
   "execution_count": 6,
   "id": "a4ccbb0f",
   "metadata": {},
   "outputs": [
    {
     "name": "stdout",
     "output_type": "stream",
     "text": [
      "<TransferFunction>: sys[4]\n",
      "Inputs (1): ['u[0]']\n",
      "Outputs (1): ['y[0]']\n",
      "\n",
      "\n",
      "        s + 3\n",
      "---------------------\n",
      "s^3 + 5 s^2 + 8 s + 4\n",
      "\n",
      "[[array([1, 3])]]\n"
     ]
    }
   ],
   "source": [
    "Np = [1, 3]\n",
    "Dp = [1, 5, 8, 4]\n",
    "print(f'{tf(Np, Dp)}')\n",
    "\n",
    "print(f'{tf(Np, Dp).num}')"
   ]
  },
  {
   "cell_type": "markdown",
   "id": "33ad55a8",
   "metadata": {},
   "source": [
    "<h2>Bloack Diagram</h2>"
   ]
  },
  {
   "cell_type": "markdown",
   "id": "b2f1a5d3",
   "metadata": {},
   "source": [
    "Notebook as below, Examples for block diagram."
   ]
  },
  {
   "cell_type": "markdown",
   "id": "de74ecf9",
   "metadata": {},
   "source": [
    "<h2>Series Cupling</h2>\n",
    "\n",
    "Block diagram of Series Cupling as below.\n",
    "\n",
    "```math\n",
    "S = S_1×S_2\n",
    "```"
   ]
  },
  {
   "cell_type": "code",
   "execution_count": 7,
   "id": "9f34accd",
   "metadata": {},
   "outputs": [
    {
     "name": "stdout",
     "output_type": "stream",
     "text": [
      "S=<TransferFunction>: sys[9]\n",
      "Inputs (1): ['u[0]']\n",
      "Outputs (1): ['y[0]']\n",
      "\n",
      "\n",
      "        s + 1\n",
      "---------------------\n",
      "s^3 + 2 s^2 + 2 s + 1\n",
      "\n",
      "S=<TransferFunction>: sys[10]\n",
      "Inputs (1): ['u[0]']\n",
      "Outputs (1): ['y[0]']\n",
      "\n",
      "\n",
      "     1\n",
      "-----------\n",
      "s^2 + s + 1\n",
      "\n"
     ]
    }
   ],
   "source": [
    "# Series concat.\n",
    "from control.matlab import tf, series\n",
    "\n",
    "S1 = tf([0, 1], [1, 1])\n",
    "S2 = tf([1, 1], [1, 1, 1])\n",
    "\n",
    "S = S2 * S1\n",
    "S = series(S1, S2)\n",
    "print(f'S={S}')\n",
    "\n",
    "print(f'S={S.minreal()}')"
   ]
  },
  {
   "cell_type": "markdown",
   "id": "9aef0c59",
   "metadata": {},
   "source": [
    "<h2>Parallel Cupling</h2>\n",
    "\n",
    "Example of Parallel cuplings.  \n",
    "\n",
    "```math\n",
    "S = S_1 + S_2\n",
    "```"
   ]
  },
  {
   "cell_type": "code",
   "execution_count": 8,
   "id": "b73804ab",
   "metadata": {},
   "outputs": [
    {
     "name": "stdout",
     "output_type": "stream",
     "text": [
      "S=<TransferFunction>: sys[12]\n",
      "Inputs (1): ['u[0]']\n",
      "Outputs (1): ['y[0]']\n",
      "\n",
      "\n",
      "   2 s^2 + 3 s + 2\n",
      "---------------------\n",
      "s^3 + 2 s^2 + 2 s + 1\n",
      "\n"
     ]
    }
   ],
   "source": [
    "from control.matlab import parallel\n",
    "\n",
    "S = S1 + S2\n",
    "print(f'S={parallel(S1, S2)}')"
   ]
  },
  {
   "cell_type": "markdown",
   "id": "5990ff25",
   "metadata": {},
   "source": [
    "<h2>FeedBack Cupling</h2>\n",
    "\n",
    "Example of FeedBack Cupling.\n",
    "\n",
    "```math\n",
    "S = \\frac{S_1}{1+S_1S_2}\n",
    "```"
   ]
  },
  {
   "cell_type": "code",
   "execution_count": 9,
   "id": "85719a89",
   "metadata": {},
   "outputs": [
    {
     "name": "stdout",
     "output_type": "stream",
     "text": [
      "S = <TransferFunction>: sys[16]\n",
      "Inputs (1): ['u[0]']\n",
      "Outputs (1): ['y[0]']\n",
      "\n",
      "\n",
      "    s^3 + 2 s^2 + 2 s + 1\n",
      "-----------------------------\n",
      "s^4 + 3 s^3 + 5 s^2 + 5 s + 2\n",
      "\n",
      "S = <TransferFunction>: sys[17]\n",
      "Inputs (1): ['u[0]']\n",
      "Outputs (1): ['y[0]']\n",
      "\n",
      "\n",
      "     s^2 + s + 1\n",
      "---------------------\n",
      "s^3 + 2 s^2 + 3 s + 2\n",
      "\n"
     ]
    }
   ],
   "source": [
    "from control.matlab import feedback\n",
    "\n",
    "S = S1 / (1 + S1 * S2)\n",
    "print(f'S = {S}')\n",
    "\n",
    "S = feedback(S1, S2)\n",
    "print(f'S = {S}')"
   ]
  },
  {
   "cell_type": "markdown",
   "id": "c06ebc88",
   "metadata": {},
   "source": [
    "also, one more examples of a Feed Back Coupling but S1 and S2 is the Serial Coupling.\n",
    "\n",
    "```math\n",
    "S = \\frac{S_1S_2}{1+S_1S_2}\n",
    "```\n",
    "\n",
    "also, Feedback Coupling is a 'Negative Feedback Cupling' default."
   ]
  },
  {
   "cell_type": "code",
   "execution_count": 10,
   "id": "5c81dd2c",
   "metadata": {},
   "outputs": [
    {
     "name": "stdout",
     "output_type": "stream",
     "text": [
      "S = <TransferFunction>: sys[22]\n",
      "Inputs (1): ['u[0]']\n",
      "Outputs (1): ['y[0]']\n",
      "\n",
      "\n",
      "         s^4 + 3 s^3 + 4 s^2 + 3 s + 1\n",
      "-----------------------------------------------\n",
      "s^6 + 4 s^5 + 9 s^4 + 13 s^3 + 12 s^2 + 7 s + 2\n",
      "\n"
     ]
    }
   ],
   "source": [
    "print(f'S = {(S1 * S2) / (1 + S1 * S2)}')"
   ]
  },
  {
   "cell_type": "markdown",
   "id": "35fb8760",
   "metadata": {},
   "source": [
    "<h2>Practice!</h2>\n",
    "\n",
    "Blocak Diagram of feedback and serial feedback as below write systems.  *page is 88."
   ]
  },
  {
   "cell_type": "code",
   "execution_count": 12,
   "id": "ad2eb1cf",
   "metadata": {},
   "outputs": [
    {
     "name": "stdout",
     "output_type": "stream",
     "text": [
      "S = <TransferFunction>: sys[36]\n",
      "Inputs (1): ['u[0]']\n",
      "Outputs (1): ['y[0]']\n",
      "\n",
      "\n",
      "  3 s^2 + 7 s + 2\n",
      "--------------------\n",
      "7 s^3 + 17 s^2 + 7 s\n",
      "\n"
     ]
    }
   ],
   "source": [
    "S1 = tf(1, [1, 1])\n",
    "S2 = tf(1, [1, 2])\n",
    "S3 = tf([3, 1], [1, 0])\n",
    "S4 = tf([2, 0], [0, 1])\n",
    "\n",
    "S12 = feedback(S1, S2)\n",
    "S123  = series(S3, S12)\n",
    "S1234 = feedback(S123, S4)\n",
    "\n",
    "print(f'S = {S1234}')"
   ]
  },
  {
   "cell_type": "code",
   "execution_count": null,
   "id": "a46581af",
   "metadata": {},
   "outputs": [],
   "source": []
  }
 ],
 "metadata": {
  "kernelspec": {
   "display_name": "venv",
   "language": "python",
   "name": "python3"
  },
  "language_info": {
   "codemirror_mode": {
    "name": "ipython",
    "version": 3
   },
   "file_extension": ".py",
   "mimetype": "text/x-python",
   "name": "python",
   "nbconvert_exporter": "python",
   "pygments_lexer": "ipython3",
   "version": "3.12.8"
  }
 },
 "nbformat": 4,
 "nbformat_minor": 5
}
