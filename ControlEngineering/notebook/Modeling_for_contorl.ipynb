{
 "cells": [
  {
   "cell_type": "code",
   "execution_count": 2,
   "id": "0307d7b0",
   "metadata": {},
   "outputs": [],
   "source": [
    "from control.matlab import ss, ssdata"
   ]
  },
  {
   "cell_type": "markdown",
   "id": "8d6d4e37",
   "metadata": {},
   "source": [
    "<h1>Write of State Space Model</h1>"
   ]
  },
  {
   "cell_type": "code",
   "execution_count": 4,
   "id": "9a9b1dd5",
   "metadata": {},
   "outputs": [
    {
     "name": "stdout",
     "output_type": "stream",
     "text": [
      "<StateSpace>: sys[1]\n",
      "Inputs (1): ['u[0]']\n",
      "Outputs (1): ['y[0]']\n",
      "States (2): ['x[0]', 'x[1]']\n",
      "\n",
      "A = [[ 0.  1.]\n",
      "     [-1. -1.]]\n",
      "\n",
      "B = [[0.]\n",
      "     [1.]]\n",
      "\n",
      "C = [[1. 0.]]\n",
      "\n",
      "D = [[0.]]\n",
      "\n"
     ]
    }
   ],
   "source": [
    "A = [[0, 1], [-1, -1]]\n",
    "B = [[0], [1]]\n",
    "C = [1, 0]\n",
    "D = [0]\n",
    "\n",
    "P = ss(A, B, C, D)\n",
    "print(P)"
   ]
  },
  {
   "cell_type": "markdown",
   "id": "c11f2e10",
   "metadata": {},
   "source": [
    "<h2>Practice!</h2>\n",
    "\n",
    "Please using python write next a state space model.  \n",
    "\n",
    "```math\n",
    "P : \\left\\{\n",
    "    \\begin{array}{ll}  \n",
    "        \\dot{x(t)} = \n",
    "            \\begin{bmatrix}\n",
    "                1 & 1 & 2 \\\\\n",
    "                2 & 1 & 1 \\\\\n",
    "                3 & 4 & 5\n",
    "            \\end{bmatrix}\n",
    "        x(t) + \\begin{bmatrix} 2 \\\\ 0 \\\\ 1\\end{bmatrix}u(t)\\\\ \\\\\n",
    "        y(t) = \\begin{bmatrix}1 & 1 & 0\\end{bmatrix}x(t)\n",
    "    \\end{array}\n",
    "    \\right.\n",
    "\n",
    "```"
   ]
  },
  {
   "cell_type": "markdown",
   "id": "afbd8a14",
   "metadata": {},
   "source": [
    "<h2>Solution</h2>\n",
    "\n",
    "Definication of State space model is as below.\n",
    "\n",
    "```math\n",
    "P : \\left\\{\n",
    "    \\begin{array}{ll}  \n",
    "        \\dot{x(t)} = Ax(t) + Bu(t)\\\\\n",
    "        y(t) = Cx(t) + Du(t)\n",
    "    \\end{array}\n",
    "    \\right.\n",
    "```"
   ]
  },
  {
   "cell_type": "code",
   "execution_count": 6,
   "id": "c0a8ddc6",
   "metadata": {},
   "outputs": [
    {
     "name": "stdout",
     "output_type": "stream",
     "text": [
      "<StateSpace>: sys[3]\n",
      "Inputs (1): ['u[0]']\n",
      "Outputs (1): ['y[0]']\n",
      "States (3): ['x[0]', 'x[1]', 'x[2]']\n",
      "\n",
      "A = [[1. 1. 2.]\n",
      "     [2. 1. 1.]\n",
      "     [3. 4. 5.]]\n",
      "\n",
      "B = [[2.]\n",
      "     [0.]\n",
      "     [1.]]\n",
      "\n",
      "C = [[1. 1. 0.]]\n",
      "\n",
      "D = [[0.]]\n",
      "\n"
     ]
    }
   ],
   "source": [
    "A = [[1, 1, 2], [2, 1, 1], [3, 4, 5]]\n",
    "B = [[2], [0], [1]]\n",
    "C = [1, 1, 0]\n",
    "D = [0]\n",
    "\n",
    "P = ss(A, B, C, D)\n",
    "print(P)"
   ]
  },
  {
   "cell_type": "markdown",
   "id": "206fbd5b",
   "metadata": {},
   "source": []
  }
 ],
 "metadata": {
  "kernelspec": {
   "display_name": "venv",
   "language": "python",
   "name": "python3"
  },
  "language_info": {
   "codemirror_mode": {
    "name": "ipython",
    "version": 3
   },
   "file_extension": ".py",
   "mimetype": "text/x-python",
   "name": "python",
   "nbconvert_exporter": "python",
   "pygments_lexer": "ipython3",
   "version": "3.12.8"
  }
 },
 "nbformat": 4,
 "nbformat_minor": 5
}
